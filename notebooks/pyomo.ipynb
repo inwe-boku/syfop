{
 "cells": [
  {
   "cell_type": "code",
   "execution_count": 1,
   "metadata": {},
   "outputs": [],
   "source": [
    "import numpy as np"
   ]
  },
  {
   "cell_type": "code",
   "execution_count": 2,
   "metadata": {},
   "outputs": [],
   "source": [
    "import pyomo.environ as pyo"
   ]
  },
  {
   "cell_type": "code",
   "execution_count": 3,
   "metadata": {},
   "outputs": [],
   "source": [
    "model = pyo.ConcreteModel()\n",
    "\n",
    "\n",
    "# technologies\n",
    "#   - Wind\n",
    "#       - class II\n",
    "#       - class III\n",
    "#   - Solar\n",
    "#   - Electrolyzer\n",
    "#   - Methanol Synthesis\n",
    "#   - Direct Air Capture\n",
    "# \n",
    "# storages\n",
    "#   - Electricity (battery)\n",
    "#   - H2\n",
    "#   - CO2\n",
    "\n",
    "\n",
    "# What is the goal?\n",
    "#   - electricity?\n",
    "#   - Methanol\n",
    "#   - Ethanol\n",
    "#   - H2\n",
    "\n",
    "\n",
    "num_timestamps = 8760  # one year, hourly\n",
    "num_technologies = 2\n",
    "\n",
    "model.timestamps = pyo.RangeSet(0, num_timestamps - 1) # note: first timestamp is missing here!\n",
    "\n",
    "technologies = ['wind_I' ,'wind_II', 'solar', 'storage_electricity']\n",
    "num_technologies = len(technologies)\n",
    "\n",
    "model.capacities = pyo.Var(technologies, domain=pyo.NonNegativeReals)\n",
    "unit_costs = np.random.rand(num_technologies)"
   ]
  },
  {
   "cell_type": "code",
   "execution_count": null,
   "metadata": {},
   "outputs": [],
   "source": []
  },
  {
   "cell_type": "code",
   "execution_count": 4,
   "metadata": {},
   "outputs": [],
   "source": [
    "# capacity factor for each technology and each hour in a year\n",
    "profiles = np.random.rand(num_technologies, num_timestamps)"
   ]
  },
  {
   "cell_type": "code",
   "execution_count": 5,
   "metadata": {},
   "outputs": [],
   "source": [
    "objective = sum(unit_cost * model.capacities[technology]\n",
    "                for unit_cost, technology in  zip(unit_costs, technologies))"
   ]
  },
  {
   "cell_type": "code",
   "execution_count": 6,
   "metadata": {},
   "outputs": [],
   "source": [
    "min_generation = 3"
   ]
  },
  {
   "cell_type": "code",
   "execution_count": null,
   "metadata": {},
   "outputs": [],
   "source": []
  },
  {
   "cell_type": "code",
   "execution_count": 7,
   "metadata": {},
   "outputs": [],
   "source": [
    "# storage is the storage level"
   ]
  },
  {
   "cell_type": "code",
   "execution_count": 8,
   "metadata": {},
   "outputs": [],
   "source": [
    "# this is the difference to level of storage to time stamp -1, i.e. \n",
    "model.storage_electricity = pyo.Var(model.timestamps, domain=pyo.Reals)"
   ]
  },
  {
   "cell_type": "code",
   "execution_count": 9,
   "metadata": {},
   "outputs": [],
   "source": [
    "storage_electricity_max_in = 2\n",
    "storage_electricity_max_out = 2"
   ]
  },
  {
   "cell_type": "code",
   "execution_count": 10,
   "metadata": {},
   "outputs": [],
   "source": [
    "def storage_electricity_max_in_rule(model, t):\n",
    "    return  (model.storage_electricity[t] - model.storage_electricity[t-1]\n",
    "                      <= storage_electricity_max_in * model.capacities['storage_electricity'])"
   ]
  },
  {
   "cell_type": "code",
   "execution_count": 12,
   "metadata": {},
   "outputs": [],
   "source": [
    "model.storage_electricity_max_in = pyo.Constraint(pyo.RangeSet(1, num_timestamps - 1),\n",
    "                                                  rule=storage_electricity_max_in_rule)"
   ]
  },
  {
   "cell_type": "code",
   "execution_count": 15,
   "metadata": {},
   "outputs": [],
   "source": [
    "# XXX is it necessary to assume a certain storage level for t=0?"
   ]
  },
  {
   "cell_type": "code",
   "execution_count": 16,
   "metadata": {},
   "outputs": [],
   "source": [
    "def storage_electricity_max_out_rule(model, t):\n",
    "    return  (model.storage_electricity[t-1] - model.storage_electricity[t]\n",
    "                      <= storage_electricity_max_out * model.capacities['storage_electricity'])"
   ]
  },
  {
   "cell_type": "code",
   "execution_count": 17,
   "metadata": {},
   "outputs": [],
   "source": [
    "model.storage_electricity_max_out = pyo.Constraint(pyo.RangeSet(1, num_timestamps - 1),\n",
    "                                                  rule=storage_electricity_max_out_rule)"
   ]
  },
  {
   "cell_type": "code",
   "execution_count": 20,
   "metadata": {},
   "outputs": [],
   "source": [
    "model.generation = pyo.Constraint(expr=min_generation <= sum(model.capacities[technology]\n",
    "                                                             for technology in technologies))"
   ]
  },
  {
   "cell_type": "code",
   "execution_count": null,
   "metadata": {},
   "outputs": [],
   "source": []
  },
  {
   "cell_type": "code",
   "execution_count": 21,
   "metadata": {},
   "outputs": [],
   "source": [
    "# storage input/output"
   ]
  },
  {
   "cell_type": "code",
   "execution_count": null,
   "metadata": {},
   "outputs": [],
   "source": []
  },
  {
   "cell_type": "code",
   "execution_count": 22,
   "metadata": {},
   "outputs": [],
   "source": [
    "model.OBJ = pyo.Objective(expr=objective)"
   ]
  },
  {
   "cell_type": "code",
   "execution_count": 23,
   "metadata": {},
   "outputs": [],
   "source": [
    "opt = pyo.SolverFactory('glpk')"
   ]
  },
  {
   "cell_type": "code",
   "execution_count": 24,
   "metadata": {},
   "outputs": [
    {
     "data": {
      "text/plain": [
       "{'Problem': [{'Name': 'unknown', 'Lower bound': 0.717453680398835, 'Upper bound': 0.717453680398835, 'Number of objectives': 1, 'Number of constraints': 17520, 'Number of variables': 8765, 'Number of nonzeros': 52559, 'Sense': 'minimize'}], 'Solver': [{'Status': 'ok', 'Termination condition': 'optimal', 'Statistics': {'Branch and bound': {'Number of bounded subproblems': 0, 'Number of created subproblems': 0}}, 'Error rc': 0, 'Time': 0.12181282043457031}], 'Solution': [OrderedDict([('number of solutions', 0), ('number of solutions displayed', 0)])]}"
      ]
     },
     "execution_count": 24,
     "metadata": {},
     "output_type": "execute_result"
    }
   ],
   "source": [
    "opt.solve(model)"
   ]
  },
  {
   "cell_type": "code",
   "execution_count": 25,
   "metadata": {},
   "outputs": [
    {
     "data": {
      "text/plain": [
       "'/home/p/reFUEL/costs-vs-fuels'"
      ]
     },
     "execution_count": 25,
     "metadata": {},
     "output_type": "execute_result"
    }
   ],
   "source": [
    "pwd"
   ]
  },
  {
   "cell_type": "code",
   "execution_count": 13,
   "metadata": {},
   "outputs": [
    {
     "data": {
      "text/plain": [
       "('asdf.mps', 139748445235568)"
      ]
     },
     "execution_count": 13,
     "metadata": {},
     "output_type": "execute_result"
    }
   ],
   "source": [
    "model.write(filename = \"asdf.mps\", io_options = {\"symbolic_solver_labels\":True})"
   ]
  },
  {
   "cell_type": "code",
   "execution_count": 26,
   "metadata": {},
   "outputs": [
    {
     "data": {
      "text/plain": [
       "[<pyomo.core.base.PyomoModel.ModelSolution at 0x7fa8bfa26a60>]"
      ]
     },
     "execution_count": 26,
     "metadata": {},
     "output_type": "execute_result"
    }
   ],
   "source": [
    "model.solutions.solutions"
   ]
  },
  {
   "cell_type": "code",
   "execution_count": 11,
   "metadata": {},
   "outputs": [
    {
     "name": "stdout",
     "output_type": "stream",
     "text": [
      "Model unknown\n",
      "\n",
      "  Variables:\n",
      "    capacities : Size=2, Index=capacities_index\n",
      "        Key : Lower : Value : Upper : Fixed : Stale : Domain\n",
      "          0 :     0 :   0.0 :  None : False : False : NonNegativeReals\n",
      "          1 :     0 :   3.0 :  None : False : False : NonNegativeReals\n",
      "\n",
      "  Objectives:\n",
      "    OBJ : Size=1, Index=None, Active=True\n",
      "        Key  : Active : Value\n",
      "        None :   True : 0.7239069800451068\n",
      "\n",
      "  Constraints:\n",
      "    generation : Size=1\n",
      "        Key  : Lower : Body : Upper\n",
      "        None :   3.0 :  3.0 :  None\n"
     ]
    }
   ],
   "source": [
    "model.display()"
   ]
  }
 ],
 "metadata": {
  "kernelspec": {
   "display_name": "Python 3",
   "language": "python",
   "name": "python3"
  },
  "language_info": {
   "codemirror_mode": {
    "name": "ipython",
    "version": 3
   },
   "file_extension": ".py",
   "mimetype": "text/x-python",
   "name": "python",
   "nbconvert_exporter": "python",
   "pygments_lexer": "ipython3",
   "version": "3.8.10"
  }
 },
 "nbformat": 4,
 "nbformat_minor": 4
}
