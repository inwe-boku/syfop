{
 "cells": [
  {
   "cell_type": "code",
   "execution_count": 1,
   "id": "b41e2999",
   "metadata": {},
   "outputs": [],
   "source": [
    "import sys"
   ]
  },
  {
   "cell_type": "code",
   "execution_count": 2,
   "id": "5a9038c7",
   "metadata": {},
   "outputs": [],
   "source": [
    "sys.path.append('/home/p/reFUEL/syfop/')"
   ]
  },
  {
   "cell_type": "code",
   "execution_count": 3,
   "id": "f7a27afe",
   "metadata": {},
   "outputs": [],
   "source": [
    "import pathlib\n",
    "import xarray as xr"
   ]
  },
  {
   "cell_type": "code",
   "execution_count": 4,
   "id": "31a6747b",
   "metadata": {},
   "outputs": [],
   "source": [
    "import syfop"
   ]
  },
  {
   "cell_type": "code",
   "execution_count": 5,
   "id": "2f5370fd",
   "metadata": {},
   "outputs": [],
   "source": [
    "from syfop.util import *\n",
    "from syfop.node import *\n",
    "from syfop.network import *"
   ]
  },
  {
   "cell_type": "code",
   "execution_count": 6,
   "id": "4dd4a770",
   "metadata": {},
   "outputs": [],
   "source": [
    "%load_ext autoreload\n",
    "%autoreload 2"
   ]
  },
  {
   "cell_type": "code",
   "execution_count": 7,
   "id": "8881ce53",
   "metadata": {},
   "outputs": [],
   "source": [
    "import os\n",
    "os.environ['PATH'] = f\"{os.environ['PATH']}:/home/p/HiGHS/build/bin\"\n",
    "os.environ['GRB_LICENSE_FILE'] = '/opt/gurobi810/gurobi.lic'"
   ]
  },
  {
   "cell_type": "markdown",
   "id": "a2e317e7",
   "metadata": {},
   "source": [
    "## Parameters"
   ]
  },
  {
   "cell_type": "code",
   "execution_count": 8,
   "id": "7521fcd1",
   "metadata": {},
   "outputs": [],
   "source": [
    "location_id = 11"
   ]
  },
  {
   "cell_type": "code",
   "execution_count": 9,
   "id": "7d7a686c",
   "metadata": {},
   "outputs": [],
   "source": [
    "battery_cost = 33             # EUR/KWh/a\n",
    "hydrogen_storage_cost = 74    # EUR/kg/a\n",
    "co2_storage_cost = 0.049      # EUR/kg/a\n",
    "\n",
    "electrolizer_cost = 30        # kW/a\n",
    "pv_cost = 53                  # EUR/kW/a\n",
    "wind_cost = 128               # EUR/kW/a\n",
    "\n",
    "electrolizer_efficiency_multiplier = 1\n",
    "# electrolizer_efficiency = 0.63 * electrolizer_efficiency_multiplier\n",
    "# 0.63 is the value for energy -> energy, if h2 is measured in tons, we use 0.019 according to Jo:\n",
    "#     der wert von 0.019 entspricht einer effizienz von 0.63\n",
    "#     wenn wir 0.69 rechnen wollen, multiplizieren wir 0.019 mit 069/0.63\n",
    "#     1 KWh electricty * 0.019 = 1 kg H2\n",
    "#\n",
    "# 1kg_h2 = 33kWh, zur Herstellung: 1kg_h2 = 33/0.63kWh = 1/0.019 kWh\n",
    "# --> 1 kWh = 0.019kg_h2\n",
    "electrolizer_convert_factor = 0.019 * 1e-3  # 1KWh --> 1 ton h2\n",
    "\n",
    "# -- below here probably constant for all scenarios\n",
    "\n",
    "methanol_synthesis_cost = 42.  # in EUR/KW/a - taken from result csv\n",
    "\n",
    "\n",
    "balanceCO2H2 = 7.268519  # from gams file\n",
    "# balanceCO2H2 * h2 = co2\n",
    "# --> balanceCO2H2 * h2 + h2 = co2 + h2\n",
    "# --> (balanceCO2H2 + 1) * h2 = co2 + h2\n",
    "# --> h2 / (co2 + h2) = 1/(balanceCO2H2 + 1)\n",
    "methanol_synthesis_input_proportions = {\"co2\": 1 - 1/(balanceCO2H2 + 1), \"electrolizer\": 1/(balanceCO2H2 + 1)}\n",
    "\n",
    "methanolSysnthesisEff = 5.093 * 5.54 * 1e3\n",
    "methanol_synthesis_convert_factor = 1/(balanceCO2H2 + 1) * methanolSysnthesisEff\n",
    "\n",
    "storage_params = {\n",
    "    'electricity':{\n",
    "        'costs': battery_cost,\n",
    "        'max_charging_speed': 0.4,   # taken from GAMS file (value from Jo)\n",
    "        'storage_loss': 0.01,        # 0.99 from GAMS file\n",
    "        'charging_loss': 0.1,        # 0.9 in gdx and result file\n",
    "    },\n",
    "    'co2': {\n",
    "        'costs': 1e3 * co2_storage_cost,\n",
    "        'max_charging_speed': 0.2,   # taken from GAMS file (value from Jo)\n",
    "        'storage_loss': 0,\n",
    "        'charging_loss': 0,\n",
    "    },\n",
    "    'hydrogen': {\n",
    "        'costs': 1e3 * hydrogen_storage_cost,\n",
    "        'max_charging_speed': 0.2,   # taken from GAMS file (value from Jo)\n",
    "        'storage_loss': 0,\n",
    "        'charging_loss': 0,\n",
    "    },\n",
    "}"
   ]
  },
  {
   "cell_type": "markdown",
   "id": "53990879",
   "metadata": {},
   "source": [
    "## Read input data"
   ]
  },
  {
   "cell_type": "code",
   "execution_count": 10,
   "id": "62443327",
   "metadata": {},
   "outputs": [],
   "source": [
    "DATA_DIR = pathlib.Path('..') / 'reproduce-brazil-paper' / 'land-neutral-renewable-fuels'"
   ]
  },
  {
   "cell_type": "code",
   "execution_count": 11,
   "id": "07618835",
   "metadata": {},
   "outputs": [],
   "source": [
    "INPUT_DATA = DATA_DIR / 'input-data'"
   ]
  },
  {
   "cell_type": "code",
   "execution_count": 12,
   "id": "0d36304c",
   "metadata": {},
   "outputs": [],
   "source": [
    "ethanol_plants = pd.read_csv(INPUT_DATA / 'ethanol-plants-brazil' / 'eth_consolidated_installations_and_statistics.csv')"
   ]
  },
  {
   "cell_type": "code",
   "execution_count": 13,
   "id": "ad45c345",
   "metadata": {},
   "outputs": [],
   "source": [
    "# the location_id is a number between 0 and 338, epe_id is the ID of the epe data source (between 0\n",
    "# and 380, but not all locations of the epe data source are used)\n",
    "# epe_id = ethanol_plants.original_index_epe[location_id]\n",
    "epe_id = 11"
   ]
  },
  {
   "cell_type": "code",
   "execution_count": 14,
   "id": "95558474",
   "metadata": {},
   "outputs": [],
   "source": [
    "solar_pv_input_flow = xr.load_dataset(INPUT_DATA / 'pv-simulation' / 'pv_BRA_ERA5_land.nc')\n",
    "# note that 2016 is a leap year, so we skip the 31st of December because we use CO2 data from 2017 and need equal lengths\n",
    "solar_pv_input_flow = solar_pv_input_flow.pv.sel(epe_id=epe_id,time=slice('2016-01-01', '2016-12-30'))\n",
    "\n",
    "# PV time series are given in KW for a PV plant with 1MW capacity\n",
    "# That means deviding by 1e3 gives us capacity factors:\n",
    "solar_pv_input_flow = solar_pv_input_flow * 1e-3"
   ]
  },
  {
   "cell_type": "code",
   "execution_count": 15,
   "id": "1f673404",
   "metadata": {},
   "outputs": [],
   "source": [
    "# make sure that we have capacity factors\n",
    "assert (0 <= solar_pv_input_flow).all() and (solar_pv_input_flow <= 1).all()"
   ]
  },
  {
   "cell_type": "code",
   "execution_count": 16,
   "id": "c0350c55",
   "metadata": {},
   "outputs": [],
   "source": [
    "wind_class2_input_flow = xr.load_dataset(INPUT_DATA / 'windpower-ethanol' / 'windpower_BRA_ERA5_GWA2_iecII.nc')\n",
    "# note that 2016 is a leap year, so we skip the 31st of December because we use CO2 data from 2017 and need equal lengths\n",
    "wind_class2_input_flow = wind_class2_input_flow.sel(epe_id=epe_id,time=slice('2016-01-01', '2016-12-30')).wp\n",
    "\n",
    "# for wind class 2 a 2000KW turbine has been used, so we devide by 2000 to get capacity factors\n",
    "# see: land-neutral-renewable-fuels/input-data/techno-economic-parameters/windturbines.csv\n",
    "wind_class2_input_flow = wind_class2_input_flow / 2000"
   ]
  },
  {
   "cell_type": "code",
   "execution_count": 17,
   "id": "96c240d8",
   "metadata": {},
   "outputs": [],
   "source": [
    "wind_class3_input_flow = xr.load_dataset(INPUT_DATA / 'windpower-ethanol' / 'windpower_BRA_ERA5_GWA2_iecIII.nc')\n",
    "# note that 2016 is a leap year, so we skip the 31st of December because we use CO2 data from 2017 and need equal lengths\n",
    "wind_class3_input_flow = wind_class3_input_flow.sel(epe_id=epe_id,time=slice('2016-01-01', '2016-12-30')).wp\n",
    "\n",
    "# for wind class 3 a 3150KW turbine has been used, so we devide by 3150 to get capacity factors\n",
    "# see: land-neutral-renewable-fuels/input-data/techno-economic-parameters/windturbines.csv\n",
    "wind_class3_input_flow = wind_class3_input_flow / 3150"
   ]
  },
  {
   "cell_type": "code",
   "execution_count": 18,
   "id": "5a502520",
   "metadata": {},
   "outputs": [],
   "source": [
    "# unit = tons\n",
    "co2_input_flow = pd.read_csv(INPUT_DATA / 'ethanol-plants-brazil' / 'generated_e_demand_time_series' / str(epe_id), parse_dates=['Unnamed: 0'])\n",
    "co2_input_flow = xr.DataArray(co2_input_flow.CO2, coords={'time': co2_input_flow['Unnamed: 0']})\n",
    "co2_input_flow = co2_input_flow.isel(time=slice(None, -1))  # exclude 1st January 2018"
   ]
  },
  {
   "cell_type": "code",
   "execution_count": 19,
   "id": "1b19ad37",
   "metadata": {},
   "outputs": [],
   "source": [
    "co2_input_flow['time'] = solar_pv_input_flow.time"
   ]
  },
  {
   "cell_type": "markdown",
   "id": "6b85f030",
   "metadata": {},
   "source": [
    "## Result file from the Brazil paper"
   ]
  },
  {
   "cell_type": "code",
   "execution_count": 20,
   "id": "cfbbd128",
   "metadata": {},
   "outputs": [],
   "source": [
    "# Units in the result file according to Jo:\n",
    "\n",
    "# alles was kapazität: GW (strom)\n",
    "# alles was energie: GWh (strom, methanol)\n",
    "# alles was co2 oder h2: kilotons (co2, h2)\n",
    "# alles was total costs ist: million euro (costs)\n",
    "# alles was unit costs ist: ansich eh input parameter, aber ist dann in mill euro pro unit wie oben"
   ]
  },
  {
   "cell_type": "code",
   "execution_count": 21,
   "id": "bd5fdfab",
   "metadata": {},
   "outputs": [],
   "source": [
    "# according to Johannes, this is the right file to look at (PV is enabled)\n",
    "fname_result = DATA_DIR / 'results' / 'revisions2-runs-main-pv-manuscript.csv'\n",
    "result = pd.read_csv(fname_result)"
   ]
  },
  {
   "cell_type": "code",
   "execution_count": 22,
   "id": "60248077",
   "metadata": {},
   "outputs": [],
   "source": [
    "scenario_set = 'revisions2-runs-main-pv-manuscript'"
   ]
  },
  {
   "cell_type": "code",
   "execution_count": 23,
   "id": "abfde481",
   "metadata": {},
   "outputs": [],
   "source": [
    "scenario = f'bat_{battery_cost}-elyzerc_{electrolizer_cost}-h2storc_{hydrogen_storage_cost}-co2storc_{co2_storage_cost}-pvc{pv_cost}-windc{wind_cost}-eyzereffmult_{electrolizer_efficiency_multiplier}'"
   ]
  },
  {
   "cell_type": "code",
   "execution_count": 24,
   "id": "e27efb8f",
   "metadata": {},
   "outputs": [
    {
     "data": {
      "text/plain": [
       "339"
      ]
     },
     "execution_count": 24,
     "metadata": {},
     "output_type": "execute_result"
    }
   ],
   "source": [
    "len(result[(result.scenario == scenario)])"
   ]
  },
  {
   "cell_type": "code",
   "execution_count": 25,
   "id": "1551aee1",
   "metadata": {},
   "outputs": [
    {
     "data": {
      "text/plain": [
       "339"
      ]
     },
     "execution_count": 25,
     "metadata": {},
     "output_type": "execute_result"
    }
   ],
   "source": [
    "len(result[(result['storageCost.co2'] == co2_storage_cost)\n",
    "       & (result.electrolizerCost == electrolizer_cost)\n",
    "       & (result['storageCost.electricity'] == battery_cost)\n",
    "       & (result['storageCost.h2'] == hydrogen_storage_cost)\n",
    "       & (result['cost.PV.tech1'] == pv_cost)\n",
    "       & (result['increaseElectrolyzerEfficiency'] == electrolizer_efficiency_multiplier)\n",
    "])"
   ]
  },
  {
   "cell_type": "code",
   "execution_count": 26,
   "id": "f102364d",
   "metadata": {},
   "outputs": [
    {
     "data": {
      "text/html": [
       "<div>\n",
       "<style scoped>\n",
       "    .dataframe tbody tr th:only-of-type {\n",
       "        vertical-align: middle;\n",
       "    }\n",
       "\n",
       "    .dataframe tbody tr th {\n",
       "        vertical-align: top;\n",
       "    }\n",
       "\n",
       "    .dataframe thead th {\n",
       "        text-align: right;\n",
       "    }\n",
       "</style>\n",
       "<table border=\"1\" class=\"dataframe\">\n",
       "  <thead>\n",
       "    <tr style=\"text-align: right;\">\n",
       "      <th></th>\n",
       "      <th>685</th>\n",
       "    </tr>\n",
       "  </thead>\n",
       "  <tbody>\n",
       "    <tr>\n",
       "      <th>epe_id</th>\n",
       "      <td>11</td>\n",
       "    </tr>\n",
       "    <tr>\n",
       "      <th>x_electrolizerSize</th>\n",
       "      <td>0.027181</td>\n",
       "    </tr>\n",
       "    <tr>\n",
       "      <th>x_methanolSynthesisSize</th>\n",
       "      <td>0.012179</td>\n",
       "    </tr>\n",
       "    <tr>\n",
       "      <th>modelstatus</th>\n",
       "      <td>1.0</td>\n",
       "    </tr>\n",
       "    <tr>\n",
       "      <th>solvestatus</th>\n",
       "      <td>1.0</td>\n",
       "    </tr>\n",
       "    <tr>\n",
       "      <th>x_cost</th>\n",
       "      <td>6.1158</td>\n",
       "    </tr>\n",
       "    <tr>\n",
       "      <th>electrolizerCost</th>\n",
       "      <td>30.0</td>\n",
       "    </tr>\n",
       "    <tr>\n",
       "      <th>methanolSynthesisCost</th>\n",
       "      <td>42.0</td>\n",
       "    </tr>\n",
       "    <tr>\n",
       "      <th>co2UseProportion</th>\n",
       "      <td>1.0</td>\n",
       "    </tr>\n",
       "    <tr>\n",
       "      <th>increaseElectrolyzerEfficiency</th>\n",
       "      <td>1.0</td>\n",
       "    </tr>\n",
       "    <tr>\n",
       "      <th>methanol_total</th>\n",
       "      <td>65.904098</td>\n",
       "    </tr>\n",
       "    <tr>\n",
       "      <th>co2_total</th>\n",
       "      <td>16.977546</td>\n",
       "    </tr>\n",
       "    <tr>\n",
       "      <th>co2_full_load</th>\n",
       "      <td>0.356621</td>\n",
       "    </tr>\n",
       "    <tr>\n",
       "      <th>curtailment_total</th>\n",
       "      <td>4.642941</td>\n",
       "    </tr>\n",
       "    <tr>\n",
       "      <th>x_resBuild.PV.tech1</th>\n",
       "      <td>0.029637</td>\n",
       "    </tr>\n",
       "    <tr>\n",
       "      <th>cost.PV.tech1</th>\n",
       "      <td>53.0</td>\n",
       "    </tr>\n",
       "    <tr>\n",
       "      <th>x_resBuild.PV.tech2</th>\n",
       "      <td>0</td>\n",
       "    </tr>\n",
       "    <tr>\n",
       "      <th>cost.PV.tech2</th>\n",
       "      <td>53.0</td>\n",
       "    </tr>\n",
       "    <tr>\n",
       "      <th>x_resBuild.Wind.tech1</th>\n",
       "      <td>0.0</td>\n",
       "    </tr>\n",
       "    <tr>\n",
       "      <th>cost.Wind.tech1</th>\n",
       "      <td>128.0</td>\n",
       "    </tr>\n",
       "    <tr>\n",
       "      <th>x_resBuild.Wind.tech2</th>\n",
       "      <td>0.021632</td>\n",
       "    </tr>\n",
       "    <tr>\n",
       "      <th>cost.Wind.tech2</th>\n",
       "      <td>128.0</td>\n",
       "    </tr>\n",
       "    <tr>\n",
       "      <th>x_storageSize.electricity</th>\n",
       "      <td>0.0</td>\n",
       "    </tr>\n",
       "    <tr>\n",
       "      <th>storageCost.electricity</th>\n",
       "      <td>33.0</td>\n",
       "    </tr>\n",
       "    <tr>\n",
       "      <th>storageEffcharg.electricity</th>\n",
       "      <td>0.9</td>\n",
       "    </tr>\n",
       "    <tr>\n",
       "      <th>x_storageSize.h2</th>\n",
       "      <td>0.000635</td>\n",
       "    </tr>\n",
       "    <tr>\n",
       "      <th>storageCost.h2</th>\n",
       "      <td>74.0</td>\n",
       "    </tr>\n",
       "    <tr>\n",
       "      <th>storageEffcharg.h2</th>\n",
       "      <td>1.0</td>\n",
       "    </tr>\n",
       "    <tr>\n",
       "      <th>x_storageSize.co2</th>\n",
       "      <td>8.207684</td>\n",
       "    </tr>\n",
       "    <tr>\n",
       "      <th>storageCost.co2</th>\n",
       "      <td>0.049</td>\n",
       "    </tr>\n",
       "    <tr>\n",
       "      <th>storageEffcharg.co2</th>\n",
       "      <td>1.0</td>\n",
       "    </tr>\n",
       "    <tr>\n",
       "      <th>resOutputMean.PV.tech1</th>\n",
       "      <td>1789.400955</td>\n",
       "    </tr>\n",
       "    <tr>\n",
       "      <th>resOutputMean.PV.tech2</th>\n",
       "      <td>0</td>\n",
       "    </tr>\n",
       "    <tr>\n",
       "      <th>resOutputMean.Wind.tech1</th>\n",
       "      <td>2046.524916</td>\n",
       "    </tr>\n",
       "    <tr>\n",
       "      <th>resOutputMean.Wind.tech2</th>\n",
       "      <td>3451.435652</td>\n",
       "    </tr>\n",
       "    <tr>\n",
       "      <th>electrolyzer_cost</th>\n",
       "      <td>0.815445</td>\n",
       "    </tr>\n",
       "    <tr>\n",
       "      <th>storage.co2_cost</th>\n",
       "      <td>0.402177</td>\n",
       "    </tr>\n",
       "    <tr>\n",
       "      <th>storage.electricity_cost</th>\n",
       "      <td>0.0</td>\n",
       "    </tr>\n",
       "    <tr>\n",
       "      <th>storage.h2_cost</th>\n",
       "      <td>0.047014</td>\n",
       "    </tr>\n",
       "    <tr>\n",
       "      <th>methanol.synthesis_cost</th>\n",
       "      <td>0.51152</td>\n",
       "    </tr>\n",
       "    <tr>\n",
       "      <th>pv_cost</th>\n",
       "      <td>1.570779</td>\n",
       "    </tr>\n",
       "    <tr>\n",
       "      <th>wind_cost</th>\n",
       "      <td>2.768866</td>\n",
       "    </tr>\n",
       "    <tr>\n",
       "      <th>res_cost</th>\n",
       "      <td>4.339645</td>\n",
       "    </tr>\n",
       "    <tr>\n",
       "      <th>costs_methanol_per_kWh</th>\n",
       "      <td>0.092798</td>\n",
       "    </tr>\n",
       "    <tr>\n",
       "      <th>scenario</th>\n",
       "      <td>bat_33-elyzerc_30-h2storc_74-co2storc_0.049-pv...</td>\n",
       "    </tr>\n",
       "  </tbody>\n",
       "</table>\n",
       "</div>"
      ],
      "text/plain": [
       "                                                                              685\n",
       "epe_id                                                                         11\n",
       "x_electrolizerSize                                                       0.027181\n",
       "x_methanolSynthesisSize                                                  0.012179\n",
       "modelstatus                                                                   1.0\n",
       "solvestatus                                                                   1.0\n",
       "x_cost                                                                     6.1158\n",
       "electrolizerCost                                                             30.0\n",
       "methanolSynthesisCost                                                        42.0\n",
       "co2UseProportion                                                              1.0\n",
       "increaseElectrolyzerEfficiency                                                1.0\n",
       "methanol_total                                                          65.904098\n",
       "co2_total                                                               16.977546\n",
       "co2_full_load                                                            0.356621\n",
       "curtailment_total                                                        4.642941\n",
       "x_resBuild.PV.tech1                                                      0.029637\n",
       "cost.PV.tech1                                                                53.0\n",
       "x_resBuild.PV.tech2                                                             0\n",
       "cost.PV.tech2                                                                53.0\n",
       "x_resBuild.Wind.tech1                                                         0.0\n",
       "cost.Wind.tech1                                                             128.0\n",
       "x_resBuild.Wind.tech2                                                    0.021632\n",
       "cost.Wind.tech2                                                             128.0\n",
       "x_storageSize.electricity                                                     0.0\n",
       "storageCost.electricity                                                      33.0\n",
       "storageEffcharg.electricity                                                   0.9\n",
       "x_storageSize.h2                                                         0.000635\n",
       "storageCost.h2                                                               74.0\n",
       "storageEffcharg.h2                                                            1.0\n",
       "x_storageSize.co2                                                        8.207684\n",
       "storageCost.co2                                                             0.049\n",
       "storageEffcharg.co2                                                           1.0\n",
       "resOutputMean.PV.tech1                                                1789.400955\n",
       "resOutputMean.PV.tech2                                                          0\n",
       "resOutputMean.Wind.tech1                                              2046.524916\n",
       "resOutputMean.Wind.tech2                                              3451.435652\n",
       "electrolyzer_cost                                                        0.815445\n",
       "storage.co2_cost                                                         0.402177\n",
       "storage.electricity_cost                                                      0.0\n",
       "storage.h2_cost                                                          0.047014\n",
       "methanol.synthesis_cost                                                   0.51152\n",
       "pv_cost                                                                  1.570779\n",
       "wind_cost                                                                2.768866\n",
       "res_cost                                                                 4.339645\n",
       "costs_methanol_per_kWh                                                   0.092798\n",
       "scenario                        bat_33-elyzerc_30-h2storc_74-co2storc_0.049-pv..."
      ]
     },
     "execution_count": 26,
     "metadata": {},
     "output_type": "execute_result"
    }
   ],
   "source": [
    "result[(result.scenario == scenario) & (result.epe_id == epe_id)].T"
   ]
  },
  {
   "cell_type": "markdown",
   "id": "086dd72c",
   "metadata": {},
   "source": [
    "## Why is wind attractive at all?"
   ]
  },
  {
   "cell_type": "code",
   "execution_count": 27,
   "id": "08e84d71",
   "metadata": {},
   "outputs": [],
   "source": [
    "import matplotlib.pyplot as plt"
   ]
  },
  {
   "cell_type": "code",
   "execution_count": 28,
   "id": "3b0a3180",
   "metadata": {},
   "outputs": [
    {
     "data": {
      "image/png": "[encoded data removed]",
      "text/plain": [
       "<Figure size 640x480 with 1 Axes>"
      ]
     },
     "metadata": {},
     "output_type": "display_data"
    }
   ],
   "source": [
    "solar_pv_input_flow.groupby(solar_pv_input_flow.time.dt.hour).mean().plot()\n",
    "wind_class2_input_flow.groupby(solar_pv_input_flow.time.dt.hour).mean().plot()\n",
    "plt.ylabel('Capcity facotor')\n",
    "plt.title('');"
   ]
  },
  {
   "cell_type": "code",
   "execution_count": 29,
   "id": "6c5a05e6",
   "metadata": {},
   "outputs": [
    {
     "data": {
      "image/png": "[encoded data removed]",
      "text/plain": [
       "<Figure size 640x480 with 1 Axes>"
      ]
     },
     "metadata": {},
     "output_type": "display_data"
    }
   ],
   "source": [
    "(solar_pv_input_flow / pv_cost).rolling(time=24).mean().plot()\n",
    "(wind_class2_input_flow / wind_cost).rolling(time=24).mean().plot()\n",
    "plt.xlabel('')\n",
    "plt.ylabel('Generation per investment (KW/EUR/a)')\n",
    "plt.title('');"
   ]
  },
  {
   "cell_type": "markdown",
   "id": "2ca67ade",
   "metadata": {},
   "source": [
    "## Model"
   ]
  },
  {
   "cell_type": "code",
   "execution_count": 30,
   "id": "6b3d7319",
   "metadata": {},
   "outputs": [],
   "source": [
    "# note: for now we don't distinguish between KW and KWh (per time stamp), this is okayish since we have hourly time stamps\n",
    "\n",
    "solar_pv = NodeScalableInputProfile(\n",
    "    name=\"solar_pv\",\n",
    "    input_flow=solar_pv_input_flow,\n",
    "    costs=pv_cost,\n",
    "    output_unit=\"KW\",\n",
    ")\n",
    "wind_class2 = NodeScalableInputProfile(\n",
    "    name=\"wind_class2\",\n",
    "    input_flow=wind_class2_input_flow,\n",
    "    costs=wind_cost,\n",
    "    output_unit=\"KW\",\n",
    ")\n",
    "wind_class3 = NodeScalableInputProfile(\n",
    "    name=\"wind_class3\",\n",
    "    input_flow=wind_class3_input_flow,\n",
    "    costs=wind_cost,\n",
    "    output_unit=\"KW\",\n",
    ")\n",
    "co2 = NodeFixInputProfile(\n",
    "    name=\"co2\",\n",
    "    costs=0,\n",
    "    input_flow=co2_input_flow,\n",
    "    output_unit=\"t\",\n",
    "    storage=Storage(**storage_params['co2']),\n",
    ")\n",
    "electricity = Node(\n",
    "    name=\"electricity\",\n",
    "    inputs=[solar_pv, wind_class2, wind_class3],\n",
    "    input_commodities=\"electricity\",\n",
    "    costs=0,\n",
    "    storage=Storage(**storage_params['electricity']),\n",
    "    output_unit=\"KW\",\n",
    ")\n",
    "curtail_electricity = Node(\n",
    "    name=\"curtail_electricity\",\n",
    "    inputs=[electricity],\n",
    "    input_commodities=\"electricity\",\n",
    "    costs=0,\n",
    "    output_unit=\"KW\",\n",
    ")\n",
    "electrolizer = Node(\n",
    "    name=\"electrolizer\",\n",
    "    inputs=[electricity],\n",
    "    input_commodities=\"electricity\",\n",
    "    costs=1/electrolizer_convert_factor * electrolizer_cost,\n",
    "    convert_factor=electrolizer_convert_factor,\n",
    "    output_unit=\"t\",\n",
    "    storage=Storage(**storage_params['hydrogen']),\n",
    ")\n",
    "curtail_hydrogen = Node(\n",
    "    name=\"curtail_hydrogen\",\n",
    "    inputs=[electrolizer],\n",
    "    input_commodities=\"hydrogen\",\n",
    "    costs=0,\n",
    "    output_unit=\"t\",\n",
    ")\n",
    "\n",
    "methanol_synthesis = Node(\n",
    "    name=\"methanol_synthesis\",\n",
    "    inputs=[co2, electrolizer],\n",
    "    input_commodities=[\"co2\", \"hydrogen\"],\n",
    "    costs=methanol_synthesis_cost,\n",
    "    convert_factor=methanol_synthesis_convert_factor,\n",
    "    output_unit=\"KW\",\n",
    "    input_proportions=methanol_synthesis_input_proportions,\n",
    ")\n",
    "\n",
    "network = Network(\n",
    "    [\n",
    "        solar_pv,\n",
    "        wind_class2,\n",
    "        wind_class3,\n",
    "        electricity,\n",
    "        curtail_electricity,\n",
    "        electrolizer,\n",
    "        curtail_hydrogen,\n",
    "        co2,\n",
    "        methanol_synthesis,\n",
    "    ],\n",
    "    time_coords=solar_pv_input_flow.time,\n",
    ")"
   ]
  },
  {
   "cell_type": "code",
   "execution_count": 31,
   "id": "106c4abd",
   "metadata": {},
   "outputs": [
    {
     "data": {
      "image/png": "[encoded data removed]",
      "text/plain": [
       "<Figure size 640x480 with 1 Axes>"
      ]
     },
     "metadata": {},
     "output_type": "display_data"
    }
   ],
   "source": [
    "network.draw()"
   ]
  },
  {
   "cell_type": "code",
   "execution_count": 32,
   "id": "b84e9688",
   "metadata": {},
   "outputs": [],
   "source": [
    "# end_brazil_paper = co2_input_flow.time.isel(time=(co2_input_flow - co2_input_flow.mean()).cumsum().argmin()).values\n",
    "# network.model.add_constraints(network.nodes_dict['co2'].storage.level.sel(time=end_brazil_paper) == 0)\n",
    "# network.model.add_constraints(network.nodes_dict['electrolizer'].storage.level.sel(time=end_brazil_paper) == 0)"
   ]
  },
  {
   "cell_type": "code",
   "execution_count": null,
   "id": "c6ff77b2",
   "metadata": {},
   "outputs": [
    {
     "name": "stdout",
     "output_type": "stream",
     "text": [
      "Set parameter Username\n",
      "Academic license - for non-commercial use only - expires 2023-12-01\n",
      "Gurobi Optimizer version 10.0.0 build v10.0.0rc2 (linux64)\n",
      "\n",
      "CPU model: Intel(R) Core(TM) i5-8250U CPU @ 1.60GHz, instruction set [SSE2|AVX|AVX2]\n",
      "Thread count: 4 physical cores, 8 logical processors, using up to 8 threads\n",
      "\n",
      "Optimize a model with 245280 rows, 175208 columns and 608382 nonzeros\n",
      "Model fingerprint: 0xb07dea8a\n",
      "Coefficient statistics:\n",
      "  Matrix range     [2e-05, 3e+03]\n",
      "  Objective range  [3e+01, 2e+06]\n",
      "  Bounds range     [0e+00, 0e+00]\n",
      "  RHS range        [5e+00, 5e+00]\n",
      "Presolve removed 112881 rows and 95361 columns\n",
      "Presolve time: 1.59s\n",
      "Presolved: 42983 rows, 137646 columns, 682784 nonzeros\n",
      "\n",
      "Concurrent LP optimizer: dual simplex and barrier\n",
      "Showing barrier log only...\n",
      "\n",
      "Ordering time: 0.01s\n",
      "\n",
      "Barrier statistics:\n",
      " Free vars  : 4811\n",
      " AA' NZ     : 5.334e+05\n",
      " Factor NZ  : 1.041e+06 (roughly 80 MB of memory)\n",
      " Factor Ops : 2.644e+07 (less than 1 second per iteration)\n",
      " Threads    : 3\n",
      "\n",
      "                  Objective                Residual\n",
      "Iter       Primal          Dual         Primal    Dual     Compl     Time\n",
      "   0  -8.25352386e+08  3.30567693e+10  1.87e+08 4.78e+02  5.68e+06     2s\n",
      "   1   2.52785793e+11  3.22754022e+10  1.36e+08 4.18e+02  4.25e+06     2s\n",
      "   2   3.40810387e+11  3.17941741e+10  1.27e+08 3.90e+02  3.94e+06     2s\n",
      "   3   4.82663526e+11  2.97882470e+10  1.00e+08 3.25e+02  3.38e+06     2s\n",
      "   4   2.93774054e+11  2.32882630e+10  6.78e+07 1.39e+02  2.48e+06     2s\n",
      "   5   1.63274001e+11  1.80229442e+10  2.97e+07 8.66e+01  1.14e+06     2s\n",
      "   6   1.02186330e+11  1.26911735e+10  1.70e+07 5.08e+01  6.53e+05     2s\n",
      "   7   7.29964188e+10  8.37642822e+09  1.19e+07 3.11e+01  4.54e+05     3s\n",
      "   8   4.50769958e+10  5.46518522e+09  7.28e+06 1.91e+01  2.81e+05     3s\n",
      "   9   3.05074494e+10  2.77663601e+09  4.91e+06 1.00e+01  1.88e+05     3s\n",
      "  10   2.22593606e+10  1.44349890e+09  3.59e+06 5.23e+00  1.36e+05     3s\n",
      "  11   1.29970275e+10  7.68401365e+08  2.10e+06 2.62e+00  8.03e+04     3s\n",
      "  12   5.54209571e+09  2.15304509e+08  9.00e+05 4.43e-01  3.41e+04     3s\n",
      "  13   9.70671300e+08  8.73441881e+07  1.59e+05 8.13e-03  6.26e+03     3s\n",
      "  14   1.83025889e+08  4.61586774e+07  2.63e+04 3.21e-03  1.05e+03     3s\n",
      "  15   8.90317211e+07  4.03243189e+07  9.81e+03 1.39e-03  3.90e+02     3s\n",
      "  16   6.86647352e+07  3.81754189e+07  6.24e+03 1.02e-03  2.50e+02     3s\n",
      "  17   5.87572998e+07  3.63699139e+07  4.51e+03 7.76e-04  1.81e+02     3s\n",
      "  18   5.10503761e+07  3.41851241e+07  3.13e+03 5.83e-04  1.25e+02     3s\n",
      "  19   4.46975708e+07  3.22769975e+07  2.01e+03 5.51e-04  7.88e+01     3s\n",
      "  20   4.28180141e+07  3.07821172e+07  1.76e+03 5.04e-04  6.91e+01     4s\n",
      "  21   4.25145304e+07  3.05439503e+07  1.73e+03 4.97e-04  6.79e+01     4s\n",
      "  22   4.00674320e+07  2.98574877e+07  1.38e+03 6.29e-04  5.42e+01     4s\n",
      "  23   3.93461005e+07  2.85085540e+07  1.31e+03 6.86e-04  5.04e+01     4s\n",
      "  24   3.89205154e+07  2.75138741e+07  1.26e+03 1.29e-03  4.82e+01     4s\n",
      "  25   3.74931209e+07  2.68122143e+07  1.14e+03 1.17e-03  4.38e+01     4s\n"
     ]
    }
   ],
   "source": [
    "network.optimize('gurobi')"
   ]
  },
  {
   "cell_type": "code",
   "execution_count": null,
   "id": "9a5333b8",
   "metadata": {},
   "outputs": [],
   "source": [
    "network.model.solution.flow_methanol_synthesis.plot()"
   ]
  },
  {
   "cell_type": "code",
   "execution_count": null,
   "id": "4efd0d7f",
   "metadata": {},
   "outputs": [],
   "source": [
    "network.model.solution.flow_co2_methanol_synthesis.plot()"
   ]
  },
  {
   "cell_type": "code",
   "execution_count": null,
   "id": "5d3ee319",
   "metadata": {},
   "outputs": [],
   "source": [
    "network.model.solution.flow_solar_pv_electricity.plot()"
   ]
  },
  {
   "cell_type": "code",
   "execution_count": null,
   "id": "f5da0805",
   "metadata": {},
   "outputs": [],
   "source": [
    "out = xr.load_dataset('../reproduce-brazil-paper/out11.nc')\n",
    "out.storage_level_co2.plot()"
   ]
  },
  {
   "cell_type": "code",
   "execution_count": null,
   "id": "5c4c3c7c",
   "metadata": {},
   "outputs": [],
   "source": [
    "\n"
   ]
  },
  {
   "cell_type": "code",
   "execution_count": null,
   "id": "02559692",
   "metadata": {},
   "outputs": [],
   "source": [
    "plt.plot(network.model.solution.storage_level_co2.time, 1e3 * out.storage_level_co2.roll(time=idx.values).values, label='Level of CO2 storage (Brazil paper)')\n",
    "\n",
    "((co2_input_flow - co2_input_flow.mean()).cumsum() - ((co2_input_flow - co2_input_flow.mean()).cumsum() - network.model.solution.storage_level_co2).mean()).plot(label='Heuristics')\n",
    "\n",
    "network.model.solution.storage_level_co2.plot(label='Level of CO2 storage (new model)')\n",
    "idx = (co2_input_flow - co2_input_flow.mean()).cumsum().argmin() + 1\n",
    "start_brazil_paper = co2_input_flow.time.isel(time=idx).values\n",
    "plt.axvline(\n",
    "    start_brazil_paper, color='k',\n",
    "    label='starting period according to heuristic used in the brazil paper'\n",
    ")\n",
    "plt.ylabel('CO2 (t)')\n",
    "plt.legend();"
   ]
  },
  {
   "cell_type": "code",
   "execution_count": null,
   "id": "6fa3c2b4",
   "metadata": {},
   "outputs": [],
   "source": [
    "plt.plot(network.model.solution.storage_level_electrolizer.time, 1e3 * out.storage_level_electrolizer.roll(time=idx.values).values, label='Level of H2 storage (Brazil paper)')\n",
    "network.model.solution.storage_level_electrolizer.plot(label='Level of H2 storage (new model)')\n",
    "\n",
    "plt.axvline(\n",
    "    start_brazil_paper, color='k',\n",
    "    label='starting period according to heuristic used in the brazil paper'\n",
    ")\n",
    "plt.ylabel('')\n",
    "plt.legend();"
   ]
  },
  {
   "cell_type": "code",
   "execution_count": null,
   "id": "3da7261b",
   "metadata": {},
   "outputs": [],
   "source": [
    "network.model.solution.storage_level_co2.plot(label='Level of CO2 storage')\n",
    "idx = (co2_input_flow - co2_input_flow.mean()).cumsum().argmin() + 1\n",
    "start_brazil_paper = co2_input_flow.time.isel(time=idx).values\n",
    "plt.axvline(\n",
    "    start_brazil_paper, color='k',\n",
    "    label='starting period according to heuristic used in the brazil paper'\n",
    ")\n",
    "plt.ylabel('CO2 (t)')\n",
    "plt.legend();"
   ]
  },
  {
   "cell_type": "markdown",
   "id": "c191c160",
   "metadata": {},
   "source": [
    "## Compare results to Brazil paper"
   ]
  },
  {
   "cell_type": "code",
   "execution_count": null,
   "id": "d6e199f4",
   "metadata": {},
   "outputs": [],
   "source": [
    "mapping = {\n",
    "    'size_solar_pv': ('x_resBuild.PV.tech1', 'KW', 1e6),                    # KW / GW\n",
    "    'size_wind_class2': ('x_resBuild.Wind.tech1', 'KW', 1e6),               # KW / GW\n",
    "    'size_wind_class3': ('x_resBuild.Wind.tech2', 'KW', 1e6),               # KW / GW\n",
    "    'size_storage_electricity': ('x_storageSize.electricity', 'KWh', 1e6),  # KWh / GWh\n",
    "    'size_storage_electrolizer': ('x_storageSize.h2', 't', 1e3),            # t / kt\n",
    "    'size_electrolizer': ('x_electrolizerSize', 't',\n",
    "                          electrolizer_convert_factor * 1e6),               # t / GW\n",
    "    'size_storage_co2': ('x_storageSize.co2', 't', 1e3),                    # t / kt\n",
    "    'size_methanol_synthesis': ('x_methanolSynthesisSize', 'KW', 1e6),      # KW / GW\n",
    "}"
   ]
  },
  {
   "cell_type": "code",
   "execution_count": null,
   "id": "b207c646",
   "metadata": {},
   "outputs": [],
   "source": [
    "result_paper_scenario = result[(result.scenario == scenario) & (result.epe_id == epe_id)]"
   ]
  },
  {
   "cell_type": "code",
   "execution_count": null,
   "id": "a33f5530",
   "metadata": {},
   "outputs": [],
   "source": [
    "result_comparison = pd.DataFrame({f\"{key_new} ({unit})\":\n",
    "    [\n",
    "        network.model.solution[key_new].values,\n",
    "        factor * result_paper_scenario[key_paper].iloc[0]\n",
    "    ]\n",
    "    for key_new, (key_paper, unit, factor) in mapping.items()}, index=('Syfop', 'Paper')).T"
   ]
  },
  {
   "cell_type": "code",
   "execution_count": null,
   "id": "4e59a80d",
   "metadata": {},
   "outputs": [],
   "source": [
    "result_comparison.loc['total_costs (Mill EUR)'] = [\n",
    "    network.model.objective_value * 1e-6,\n",
    "    result_paper_scenario.x_cost.iloc[0]\n",
    "]"
   ]
  },
  {
   "cell_type": "code",
   "execution_count": null,
   "id": "4e2cbef1",
   "metadata": {},
   "outputs": [],
   "source": [
    "result_comparison.loc['methanol_total (GWh / year)'] = [\n",
    "    network.model.solution.flow_methanol_synthesis.sum().values * 1e-6,\n",
    "    result_paper_scenario['methanol_total'].iloc[0]\n",
    "]"
   ]
  },
  {
   "cell_type": "code",
   "execution_count": null,
   "id": "fa8067b4",
   "metadata": {},
   "outputs": [],
   "source": [
    "result_comparison['rel_error (%)'] = 100 * (result_comparison['Syfop'] / result_comparison['Paper'] - 1)"
   ]
  },
  {
   "cell_type": "code",
   "execution_count": null,
   "id": "41d080c6",
   "metadata": {},
   "outputs": [],
   "source": [
    "result_comparison"
   ]
  },
  {
   "cell_type": "code",
   "execution_count": null,
   "id": "456ba37b",
   "metadata": {},
   "outputs": [],
   "source": [
    "network.model.constraints"
   ]
  },
  {
   "cell_type": "code",
   "execution_count": null,
   "id": "cd9ab0a0",
   "metadata": {},
   "outputs": [],
   "source": [
    "# why is the electrolizer that small??\n",
    "#  - do we have a reasonable amount of H2?\n",
    "#  - is the electroizer capacity really in kt in the paper?"
   ]
  },
  {
   "cell_type": "markdown",
   "id": "8d840b6e",
   "metadata": {},
   "source": [
    "## Debug the model by printing constraints"
   ]
  },
  {
   "cell_type": "code",
   "execution_count": null,
   "id": "7b33b106",
   "metadata": {},
   "outputs": [],
   "source": [
    "# constraints_as_str = constraints_to_str(network.model)"
   ]
  },
  {
   "cell_type": "code",
   "execution_count": null,
   "id": "d594d4ac",
   "metadata": {},
   "outputs": [],
   "source": [
    "# with open('/tmp/model', 'w+') as f:\n",
    "#    f.write(constraints_as_str)"
   ]
  }
 ],
 "metadata": {
  "kernelspec": {
   "display_name": "Python 3 (ipykernel)",
   "language": "python",
   "name": "python3"
  },
  "language_info": {
   "codemirror_mode": {
    "name": "ipython",
    "version": 3
   },
   "file_extension": ".py",
   "mimetype": "text/x-python",
   "name": "python",
   "nbconvert_exporter": "python",
   "pygments_lexer": "ipython3",
   "version": "3.10.8"
  }
 },
 "nbformat": 4,
 "nbformat_minor": 5
}
